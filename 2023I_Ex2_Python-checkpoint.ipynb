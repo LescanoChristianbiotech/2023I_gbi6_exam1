{
 "cells": [
  {
   "cell_type": "markdown",
   "metadata": {
    "id": "CEZHzeOFsfj6"
   },
   "source": [
    "<img src=\"https://www.universidades.com.ec/logos/original/logo-universidad-regional-amazonica-ikiam.webp\" width=300 height=340 />\n",
    "\n",
    "# EXAMEN PARCIAL PYTHON\n",
    "    \n",
    "\n",
    "## GBI6 - BIOINFORMÁTICA\n",
    "\n",
    "**Lescano Jumbo, Christian Paul** \n",
    "\n",
    "**29-06-2023**"
   ]
  },
  {
   "cell_type": "markdown",
   "metadata": {
    "id": "tGwhY7HlsfkC"
   },
   "source": [
    "## Ejercicio 0.1 [0.5 puntos]\n",
    "Realice cambios al cuaderno de jupyter: \n",
    "- Agregue el logo de la Universidad\n",
    "- Coloque sus datos personales \n",
    "- Use el terminal para crear las carpetas `results` y `data`.\n",
    "- Use el terminal y mueva `gstm.txt` que tiene un listado de accesiones de glutathione transferase a la carpeta `data`.\n"
   ]
  },
  {
   "cell_type": "code",
   "execution_count": 1,
   "metadata": {},
   "outputs": [],
   "source": [
    "mkdir results"
   ]
  },
  {
   "cell_type": "code",
   "execution_count": 2,
   "metadata": {},
   "outputs": [],
   "source": [
    "mkdir data"
   ]
  },
  {
   "cell_type": "code",
   "execution_count": 3,
   "metadata": {},
   "outputs": [
    {
     "name": "stdout",
     "output_type": "stream",
     "text": [
      " El volumen de la unidad C no tiene etiqueta.\n",
      " El número de serie del volumen es: 4E0B-D7C7\n",
      "\n",
      " Directorio de C:\\Users\\DELL\\Untitled Folder\n",
      "\n",
      "30/06/2023  13:52    <DIR>          .\n",
      "30/06/2023  13:52    <DIR>          ..\n",
      "30/06/2023  13:45    <DIR>          .ipynb_checkpoints\n",
      "30/06/2023  13:52             6.332 2023I_Ex2_Python.ipynb\n",
      "30/06/2023  13:52    <DIR>          data\n",
      "30/06/2023  13:46           120.976 gstm.txt\n",
      "30/06/2023  13:45             1.619 popsimulate.py\n",
      "30/06/2023  13:52    <DIR>          results\n",
      "               3 archivos        128.927 bytes\n",
      "               5 dirs  89.165.180.928 bytes libres\n"
     ]
    }
   ],
   "source": [
    "ls"
   ]
  },
  {
   "cell_type": "code",
   "execution_count": 2,
   "metadata": {},
   "outputs": [
    {
     "data": {
      "text/plain": [
       "'C:\\\\Users\\\\DELL\\\\Untitled Folder'"
      ]
     },
     "execution_count": 2,
     "metadata": {},
     "output_type": "execute_result"
    }
   ],
   "source": [
    "pwd"
   ]
  },
  {
   "cell_type": "code",
   "execution_count": 4,
   "metadata": {},
   "outputs": [],
   "source": [
    "file_source = 'gstm.txt'\n",
    "file_destination = 'data'"
   ]
  },
  {
   "cell_type": "markdown",
   "metadata": {
    "id": "zXz2VQ92sfkE"
   },
   "source": [
    "## Ejercicio 1 [4.0 puntos]\n",
    "\n",
    "Cargue el módulo `popsimulate`, luego: \n",
    "\n",
    "1.1. explique lo que hace cada línea de la función `build_population`, simule un ejemplo y explique el resultado. \n",
    "\n",
    "1.2. explique lo que hace cada línea de la función `compute_frequencies`, simule un ejemplo y explique el resultado. \n",
    "\n",
    "1.3. explique lo que hace cada línea de la función `reproduce_population`, simule un ejemplo y explique el resultado. \n",
    "\n",
    "1.4. explique lo que hace cada línea de la función `simulate_drift`, simule un ejemplo y explique el resultado. "
   ]
  },
  {
   "cell_type": "code",
   "execution_count": 14,
   "metadata": {},
   "outputs": [],
   "source": [
    "import random\n"
   ]
  },
  {
   "cell_type": "code",
   "execution_count": 89,
   "metadata": {
    "id": "6nZuF5_ksfkF"
   },
   "outputs": [
    {
     "name": "stdout",
     "output_type": "stream",
     "text": [
      "[('a', 'a'), ('a', 'a'), ('a', 'A'), ('A', 'A'), ('a', 'a'), ('a', 'A'), ('a', 'a'), ('a', 'a'), ('A', 'A'), ('A', 'A'), ('a', 'A'), ('A', 'a')]\n"
     ]
    }
   ],
   "source": [
    "# Escriba aquí su código para el ejercicio 1\n",
    "#_________________ Función 1\n",
    "import random\n",
    "\n",
    "def build_population(N, p):\n",
    "    population = []\n",
    "    for i in range(N):\n",
    "        allele1 = \"A\" if random.random() > p else \"a\"\n",
    "        allele2 = \"A\" if random.random() > p else \"a\"\n",
    "        population.append((allele1, allele2))\n",
    "    return population\n",
    "\n",
    "# Ejemplo de uso\n",
    "N = 12  # Tamaño de la población\n",
    "p = 0.5  # Probabilidad de tener el alelo \"a\"\n",
    "\n",
    "population = build_population(N, p)\n",
    "print(population)\n"
   ]
  },
  {
   "cell_type": "code",
   "execution_count": 90,
   "metadata": {},
   "outputs": [
    {
     "name": "stdout",
     "output_type": "stream",
     "text": [
      "{'AA': 2, 'aa': 2, 'Aa': 2, 'aA': 6}\n"
     ]
    }
   ],
   "source": [
    "#_________________ Función 2\n",
    "population = [('A', 'a'), ('A', 'A'), ('a', 'A'), ('a', 'a'), ('A', 'A'), ('a', 'A'), ('a', 'A'), ('a', 'a'), ('a', 'A'), ('A', 'a'), ('a', 'A'), ('a', 'A')]\n",
    "def compute_frequencies(population):\n",
    "    AA = population.count((\"A\", \"A\"))\n",
    "    Aa = population.count((\"A\", \"a\"))\n",
    "    aA = population.count((\"a\", \"A\"))\n",
    "    aa = population.count((\"a\", \"a\"))\n",
    "    return({\"AA\": AA, \"aa\": aa, \"Aa\": Aa, \"aA\": aA})\n",
    "frequencies = compute_frequencies(population)\n",
    "print(frequencies)\n"
   ]
  },
  {
   "cell_type": "code",
   "execution_count": 91,
   "metadata": {},
   "outputs": [
    {
     "name": "stdout",
     "output_type": "stream",
     "text": [
      "[('a', 'a'), ('A', 'a'), ('A', 'A'), ('A', 'a'), ('a', 'a'), ('A', 'a'), ('a', 'a'), ('a', 'A'), ('A', 'a'), ('A', 'a'), ('a', 'A'), ('A', 'A')]\n"
     ]
    }
   ],
   "source": [
    "#_________________ Función 3\n",
    "import numpy as np\n",
    "population = [('A', 'a'), ('A', 'A'), ('a', 'A'), ('a', 'a'), ('A', 'A'), ('a', 'A'), ('a', 'A'), ('a', 'a'), ('a', 'A'), ('A', 'a'), ('a', 'A'), ('a', 'A')]\n",
    "def reproduce_population(population):\n",
    "    new_generation = []\n",
    "    N = len(population)\n",
    "    for i in range(N):\n",
    "        dad = np.random.randint(N)\n",
    "        mom = np.random.randint(N)\n",
    "        chr_mom = np.random.randint(2)\n",
    "        offspring = (population[mom][chr_mom], population[dad][1 - chr_mom])\n",
    "        new_generation.append(offspring)\n",
    "    return new_generation\n",
    "\n",
    "new_generation = reproduce_population(population)\n",
    "print(new_generation)\n"
   ]
  },
  {
   "cell_type": "code",
   "execution_count": 92,
   "metadata": {},
   "outputs": [
    {
     "name": "stdout",
     "output_type": "stream",
     "text": [
      "An allele reached fixation at generation 90\n",
      "The genotype counts are\n",
      "{'AA': 100, 'aa': 0, 'Aa': 0, 'aA': 0}\n",
      "Total de generaciones: 90\n",
      "Frecuencias de genotipos en la población final:\n",
      "{'AA': 100, 'aa': 0, 'Aa': 0, 'aA': 0}\n"
     ]
    }
   ],
   "source": [
    "#_________________ Función 4\n",
    "import numpy as np\n",
    "\n",
    "N = 100  # Número de individuos en la población\n",
    "p = 0.5  # Probabilidad de tener el alelo A en la población inicial\n",
    "def simulate_drift(N, p):\n",
    "    my_pop = build_population(N, p)\n",
    "    fixation = False\n",
    "    num_generations = 0\n",
    "    while fixation == False:\n",
    "        genotype_counts = compute_frequencies(my_pop)\n",
    "        if (genotype_counts[\"AA\"] == N or genotype_counts[\"aa\"] == N):\n",
    "            print(\"An allele reached fixation at generation\", num_generations)\n",
    "            print(\"The genotype counts are\")\n",
    "            print(genotype_counts)\n",
    "            fixation == True\n",
    "            break\n",
    "        my_pop = reproduce_population(my_pop)\n",
    "        num_generations += 1\n",
    "    return num_generations, genotype_counts\n",
    "num_generations, genotype_counts = simulate_drift(N, p)\n",
    "print(\"Total de generaciones:\", num_generations)\n",
    "print(\"Frecuencias de genotipos en la población final:\")\n",
    "print(genotype_counts)\n",
    "\n"
   ]
  },
  {
   "cell_type": "markdown",
   "metadata": {
    "id": "Hs7dXkwxsfkG"
   },
   "source": [
    "## Ejercicio 2 [5.0 puntos]\n",
    "\n",
    "Cree el modulo `glutransferase.py` y genere las siguientes funciones:\n",
    "\n",
    "2.1. `source` que se conecte al `NCBI` y `Nucleotide` para extraer el nombre del organismo fuente y que cuente la frecuencia de cada especie. Guarde el resultado en `results/source.csv`\n",
    "\n",
    "2.2. `sequences` que se conecte al `NCBI` y `Nucleotide` para extraer la secuencia de ADN, que se realice la traducción y separación de péptidos. Asegurarse que los péptidos empiezan en metionina. Luego calcule `molecular weight` e `instability index`. Genere un `joinplot` utilizando los valores de peso molecular e índice de estabilidad. Edite color, tamaño y tipo de puntos, asimismo etiquete adecuadamente el título y los ejes. Guarde los resultados en `results/glupeptides.csv` y `results/glupeptides.png`.\n",
    "\n",
    "**No escriba las funciones en este cuaderno de jupyter**\n",
    "\n",
    "2.3. Use la lista de accesiones en `data/gstm.txt`, cargue el módulo `glutransferase` y ejecute las dos funciones. "
   ]
  },
  {
   "cell_type": "code",
   "execution_count": 93,
   "metadata": {},
   "outputs": [
    {
     "ename": "NameError",
     "evalue": "name 'pd' is not defined",
     "output_type": "error",
     "traceback": [
      "\u001b[1;31m---------------------------------------------------------------------------\u001b[0m",
      "\u001b[1;31mNameError\u001b[0m                                 Traceback (most recent call last)",
      "\u001b[1;32m~\\AppData\\Local\\Temp\\ipykernel_12872\\2761327775.py\u001b[0m in \u001b[0;36m<module>\u001b[1;34m\u001b[0m\n\u001b[0;32m      1\u001b[0m \u001b[1;31m# Escriba aquí su código para el ejercicio 2\u001b[0m\u001b[1;33m\u001b[0m\u001b[1;33m\u001b[0m\u001b[0m\n\u001b[1;32m----> 2\u001b[1;33m \u001b[1;32mimport\u001b[0m \u001b[0mglutransferase\u001b[0m\u001b[1;33m\u001b[0m\u001b[1;33m\u001b[0m\u001b[0m\n\u001b[0m",
      "\u001b[1;32m~\\Untitled Folder\\glutransferase.py\u001b[0m in \u001b[0;36m<module>\u001b[1;34m\u001b[0m\n\u001b[0;32m     90\u001b[0m data = {'Molecular Weight': [result[1] for result in results],\n\u001b[0;32m     91\u001b[0m         'Instability Index': [result[2] for result in results]}\n\u001b[1;32m---> 92\u001b[1;33m \u001b[0mdf\u001b[0m \u001b[1;33m=\u001b[0m \u001b[0mpd\u001b[0m\u001b[1;33m.\u001b[0m\u001b[0mDataFrame\u001b[0m\u001b[1;33m(\u001b[0m\u001b[0mdata\u001b[0m\u001b[1;33m)\u001b[0m\u001b[1;33m\u001b[0m\u001b[1;33m\u001b[0m\u001b[0m\n\u001b[0m\u001b[0;32m     93\u001b[0m \u001b[1;33m\u001b[0m\u001b[0m\n\u001b[0;32m     94\u001b[0m \u001b[0msns\u001b[0m\u001b[1;33m.\u001b[0m\u001b[0mset\u001b[0m\u001b[1;33m(\u001b[0m\u001b[0mstyle\u001b[0m\u001b[1;33m=\u001b[0m\u001b[1;34m'ticks'\u001b[0m\u001b[1;33m)\u001b[0m\u001b[1;33m\u001b[0m\u001b[1;33m\u001b[0m\u001b[0m\n",
      "\u001b[1;31mNameError\u001b[0m: name 'pd' is not defined"
     ]
    }
   ],
   "source": [
    "# Escriba aquí su código para el ejercicio 2\n",
    "import glutransferase"
   ]
  },
  {
   "cell_type": "code",
   "execution_count": 95,
   "metadata": {},
   "outputs": [],
   "source": [
    "# Ejercicio 2.1\n",
    "from Bio import Entrez\n",
    "import csv\n",
    "\n",
    "def fetch_species_names(accession_numbers):\n",
    "    Entrez.email = 'lescanoc164@gmail.com'  \n",
    "    handle = Entrez.efetch(db='nucleotide', id='X83915.1', rettype='gb', retmode='text')\n",
    "    records = handle.readlines()\n",
    "    species_names = []\n",
    "    for line in records:\n",
    "        if line.startswith('  ORGANISM'):\n",
    "            species_names.append(line.strip().split('  ORGANISM  ')[-1])\n",
    "    return species_names\n",
    "\n",
    "def count_species_frequency(species_names):\n",
    "    species_frequency = {}\n",
    "    for name in species_names:\n",
    "        species_frequency[name] = species_frequency.get(name, 0) + 1\n",
    "    return species_frequency\n",
    "\n",
    "def save_results_to_csv(species_frequency):\n",
    "    with open('results/source.csv', 'w', newline='') as csvfile:\n",
    "        writer = csv.writer(csvfile)\n",
    "        writer.writerow(['Species', 'Frequency'])\n",
    "        for species, frequency in species_frequency.items():\n",
    "            writer.writerow([species, frequency])\n",
    "\n",
    "# Lista de números de acceso a las secuencias nucleotídicas\n",
    "accession_numbers = ['AB123456', 'CD789012', 'EF345678']\n",
    "\n",
    "# Obtener los nombres de especie para los números de acceso\n",
    "species_names = fetch_species_names(accession_numbers)\n",
    "\n",
    "# Contar la frecuencia de cada especie\n",
    "species_frequency = count_species_frequency(species_names)\n",
    "\n",
    "# Guardar los resultados en un archivo CSV\n",
    "save_results_to_csv(species_frequency)"
   ]
  },
  {
   "cell_type": "code",
   "execution_count": 96,
   "metadata": {},
   "outputs": [
    {
     "data": {
      "image/png": "[encoded data removed]",
      "text/plain": [
       "<Figure size 600x600 with 3 Axes>"
      ]
     },
     "metadata": {},
     "output_type": "display_data"
    }
   ],
   "source": [
    "#EJERCIO 2.2\n",
    "from Bio import Entrez, SeqIO\n",
    "from Bio.SeqUtils.ProtParam import ProteinAnalysis\n",
    "\n",
    "def fetch_dna_sequence(accession_number):\n",
    "    Entrez.email = 'lescanoc164@gmail.com'  \n",
    "    handle = Entrez.efetch(db='nucleotide', id=accession_number, rettype='fasta', retmode='text')\n",
    "    record = SeqIO.read(handle, 'fasta')\n",
    "    handle.close()\n",
    "    dna_sequence = record.seq\n",
    "    return dna_sequence\n",
    "\n",
    "def translate_sequence(dna_sequence):\n",
    "    length = len(dna_sequence) - (len(dna_sequence) % 3)\n",
    "    dna_sequence = dna_sequence[:length]\n",
    "    return dna_sequence.translate()\n",
    "\n",
    "def analyze_peptides(peptides):\n",
    "    results = []\n",
    "    for peptide in peptides:\n",
    "        analysis = ProteinAnalysis(str(peptide))\n",
    "        molecular_weight = analysis.molecular_weight()\n",
    "        instability_index = analysis.instability_index()\n",
    "        results.append((str(peptide), molecular_weight, instability_index))\n",
    "    return results\n",
    "\n",
    "# Obtener la secuencia de ADN\n",
    "accession_number = 'L06047.1'\n",
    "dna_sequence = fetch_dna_sequence(accession_number)\n",
    "\n",
    "# Traducir la secuencia de ADN a péptidos\n",
    "peptides = translate_sequence(dna_sequence).split('*')\n",
    "\n",
    "# Filtrar y analizar los péptidos que comienzan con metionina\n",
    "met_peptides = [peptide for peptide in peptides if peptide.startswith('M')]\n",
    "results = analyze_peptides(met_peptides)\n",
    "\n",
    "# Guardar los resultados en un archivo CSV\n",
    "import csv\n",
    "\n",
    "output_file = 'results/glupeptides.csv'\n",
    "with open(output_file, 'w', newline='') as file:\n",
    "    writer = csv.writer(file)\n",
    "    writer.writerow(['Peptide', 'Molecular Weight', 'Instability Index'])\n",
    "    writer.writerows(results)\n",
    "\n",
    "# Generar el jointplot\n",
    "import seaborn as sns\n",
    "import matplotlib.pyplot as plt\n",
    "\n",
    "data = {'Molecular Weight': [result[1] for result in results],\n",
    "        'Instability Index': [result[2] for result in results]}\n",
    "df = pd.DataFrame(data)\n",
    "\n",
    "sns.set(style='ticks')\n",
    "g = sns.jointplot(x='Molecular Weight', y='Instability Index', data=df, kind='scatter', color='blue', s=50)\n",
    "g.ax_joint.set_xlabel('Molecular Weight')\n",
    "g.ax_joint.set_ylabel('Instability Index')\n",
    "g.ax_joint.set_title('Peptide Analysis')\n",
    "\n",
    "# Guardar el jointplot como imagen\n",
    "output_image = 'results/glupeptides.png'\n",
    "plt.savefig(output_image)\n",
    "\n",
    "plt.show()\n"
   ]
  },
  {
   "cell_type": "markdown",
   "metadata": {
    "id": "-MaHCuV8sfkP"
   },
   "source": [
    "## Ejercicio 0.2 [0.5 puntos]\n",
    "\n",
    "\n",
    "1. Cree un archivo ```Readme.md``` que debe tener lo siguiente:\n",
    "- Datos personales\n",
    "- Características del computador\n",
    "- Versión de Python/Anaconda y de cada uno de los módulos/paquetes y utilizados\n",
    "- Explicación de la data utilizada\n",
    "\n",
    "2. Realice al menos 1 control de la versión (commits) por cada ejercicio (del 1 al 5), con un mensaje que inicie como: \n",
    "\n",
    "```sh \n",
    "Carlitos Alimaña ha realizado el ejercicio 1.1  \n",
    "```\n",
    "```sh \n",
    "Carlitos Alimaña ha realizado el ejercicio 2.1\n",
    "```\n",
    "```sh \n",
    "...\n",
    "```\n"
   ]
  },
  {
   "cell_type": "code",
   "execution_count": null,
   "metadata": {},
   "outputs": [],
   "source": []
  }
 ],
 "metadata": {
  "colab": {
   "provenance": []
  },
  "kernelspec": {
   "display_name": "Python 3 (ipykernel)",
   "language": "python",
   "name": "python3"
  },
  "language_info": {
   "codemirror_mode": {
    "name": "ipython",
    "version": 3
   },
   "file_extension": ".py",
   "mimetype": "text/x-python",
   "name": "python",
   "nbconvert_exporter": "python",
   "pygments_lexer": "ipython3",
   "version": "3.9.13"
  },
  "latex_envs": {
   "LaTeX_envs_menu_present": true,
   "autoclose": false,
   "autocomplete": true,
   "bibliofile": "biblio.bib",
   "cite_by": "apalike",
   "current_citInitial": 1,
   "eqLabelWithNumbers": true,
   "eqNumInitial": 1,
   "hotkeys": {
    "equation": "Ctrl-E",
    "itemize": "Ctrl-I"
   },
   "labels_anchors": false,
   "latex_user_defs": false,
   "report_style_numbering": false,
   "user_envs_cfg": false
  },
  "toc": {
   "base_numbering": 1,
   "nav_menu": {},
   "number_sections": true,
   "sideBar": false,
   "skip_h1_title": false,
   "title_cell": "Table of Contents",
   "title_sidebar": "Contents",
   "toc_cell": false,
   "toc_position": {
    "height": "1152.67px",
    "left": "41px",
    "top": "110px",
    "width": "253.458px"
   },
   "toc_section_display": true,
   "toc_window_display": false
  },
  "varInspector": {
   "cols": {
    "lenName": 16,
    "lenType": 16,
    "lenVar": 40
   },
   "kernels_config": {
    "python": {
     "delete_cmd_postfix": "",
     "delete_cmd_prefix": "del ",
     "library": "var_list.py",
     "varRefreshCmd": "print(var_dic_list())"
    },
    "r": {
     "delete_cmd_postfix": ") ",
     "delete_cmd_prefix": "rm(",
     "library": "var_list.r",
     "varRefreshCmd": "cat(var_dic_list()) "
    }
   },
   "types_to_exclude": [
    "module",
    "function",
    "builtin_function_or_method",
    "instance",
    "_Feature"
   ],
   "window_display": false
  }
 },
 "nbformat": 4,
 "nbformat_minor": 1
}
